{
  "nbformat": 4,
  "nbformat_minor": 0,
  "metadata": {
    "colab": {
      "provenance": [],
      "authorship_tag": "ABX9TyOMkAv3t7hNv/mS2QZP24WD",
      "include_colab_link": true
    },
    "kernelspec": {
      "name": "python3",
      "display_name": "Python 3"
    },
    "language_info": {
      "name": "python"
    }
  },
  "cells": [
    {
      "cell_type": "markdown",
      "metadata": {
        "id": "view-in-github",
        "colab_type": "text"
      },
      "source": [
        "<a href=\"https://colab.research.google.com/github/mahnoorfatimafaizi/AI-101-Online-Python-Fundamentals-for-AI/blob/main/Class02.ipynb\" target=\"_parent\"><img src=\"https://colab.research.google.com/assets/colab-badge.svg\" alt=\"Open In Colab\"/></a>"
      ]
    },
    {
      "cell_type": "code",
      "execution_count": 3,
      "metadata": {
        "colab": {
          "base_uri": "https://localhost:8080/"
        },
        "id": "L9lf9Dd9HRDW",
        "outputId": "b38c6cf9-6da4-4718-ef5f-28a280b1965d"
      },
      "outputs": [
        {
          "output_type": "stream",
          "name": "stdout",
          "text": [
            "<class 'str'>\n",
            "<class 'int'>\n"
          ]
        }
      ],
      "source": [
        "name = 'Mahnoor'\n",
        "number = 4\n",
        "\n",
        "print(type(name))\n",
        "print(type(number))"
      ]
    },
    {
      "cell_type": "code",
      "source": [
        "print(f\"My name is {name}\")\n",
        "print(f\"My lucky number is {number}\")"
      ],
      "metadata": {
        "colab": {
          "base_uri": "https://localhost:8080/"
        },
        "id": "vIQIgI8EH_Qj",
        "outputId": "6ea835c9-45c1-479b-f865-67f107493440"
      },
      "execution_count": 6,
      "outputs": [
        {
          "output_type": "stream",
          "name": "stdout",
          "text": [
            "My name is Mahnoor\n",
            "My lucky number is 4\n"
          ]
        }
      ]
    },
    {
      "cell_type": "code",
      "source": [
        "print(f\"My name is\", name, f\"My lucky number is\", number)"
      ],
      "metadata": {
        "colab": {
          "base_uri": "https://localhost:8080/"
        },
        "id": "PYNDCv3fIZsa",
        "outputId": "7c602d06-3077-4643-8f1a-f08ed7b3b80b"
      },
      "execution_count": 9,
      "outputs": [
        {
          "output_type": "stream",
          "name": "stdout",
          "text": [
            "My name is Mahnoor My lucky number is 4\n"
          ]
        }
      ]
    },
    {
      "cell_type": "code",
      "source": [
        "paragraph = f\"\"\"\n",
        "My name is {name}\n",
        "My lucky number is {number}\n",
        "\"\"\"\n",
        "print(paragraph)"
      ],
      "metadata": {
        "colab": {
          "base_uri": "https://localhost:8080/"
        },
        "id": "KNF2VhTYI6Hw",
        "outputId": "50807444-d451-4afd-9dd1-6024d1e71ad7"
      },
      "execution_count": 10,
      "outputs": [
        {
          "output_type": "stream",
          "name": "stdout",
          "text": [
            "\n",
            "My name is Mahnoor\n",
            "My lucky number is 4\n",
            "\n"
          ]
        }
      ]
    },
    {
      "cell_type": "markdown",
      "source": [
        "## Write an email using concatination"
      ],
      "metadata": {
        "id": "gsH4BhKnPNti"
      }
    },
    {
      "cell_type": "code",
      "source": [
        "customer = \"Asad\"\n",
        "company = \"Ali\""
      ],
      "metadata": {
        "id": "NPaf8BOmNxbU"
      },
      "execution_count": 14,
      "outputs": []
    },
    {
      "cell_type": "code",
      "source": [
        "message = f\"\"\"\n",
        "Hi {customer},\n",
        "You got a free coupon code : 124NEWYEAR2025,\n",
        "\n",
        "Best Regards,\n",
        "{company}\n",
        "\"\"\"\n",
        "print(message)"
      ],
      "metadata": {
        "colab": {
          "base_uri": "https://localhost:8080/"
        },
        "id": "_xX9oyTRN9CA",
        "outputId": "3c1568db-195a-4dd9-8264-b498e387608c"
      },
      "execution_count": 16,
      "outputs": [
        {
          "output_type": "stream",
          "name": "stdout",
          "text": [
            "\n",
            "Hi Asad,\n",
            "You got a free coupon code : 124NEWYEAR2025,\n",
            "\n",
            "Best Regards,\n",
            "Ali\n",
            "\n"
          ]
        }
      ]
    },
    {
      "cell_type": "markdown",
      "source": [
        "## Arithmetic Operators"
      ],
      "metadata": {
        "id": "VjoIGbUlPWny"
      }
    },
    {
      "cell_type": "code",
      "source": [
        "#Addition\n",
        "item1 = 50\n",
        "item2 = 100\n",
        "item3 = 150\n",
        "total = item1 + item2 + item3\n",
        "print(total)"
      ],
      "metadata": {
        "colab": {
          "base_uri": "https://localhost:8080/"
        },
        "id": "yXKCYulmOa4u",
        "outputId": "5b062899-6bbe-4f2a-ff82-8e29be7e7cf9"
      },
      "execution_count": 17,
      "outputs": [
        {
          "output_type": "stream",
          "name": "stdout",
          "text": [
            "300\n"
          ]
        }
      ]
    },
    {
      "cell_type": "code",
      "source": [
        "#Subtraction\n",
        "number1 = 500\n",
        "number2 = 100\n",
        "total = number1 - number2\n",
        "print(total)"
      ],
      "metadata": {
        "colab": {
          "base_uri": "https://localhost:8080/"
        },
        "id": "itOXoaJnQCJv",
        "outputId": "ea1429d7-6850-486e-8a08-231bad77806d"
      },
      "execution_count": 19,
      "outputs": [
        {
          "output_type": "stream",
          "name": "stdout",
          "text": [
            "400\n"
          ]
        }
      ]
    },
    {
      "cell_type": "code",
      "source": [
        "#Multiplication\n",
        "number1 = 45\n",
        "number2 = 5\n",
        "total = number1 * number2\n",
        "print(total)"
      ],
      "metadata": {
        "colab": {
          "base_uri": "https://localhost:8080/"
        },
        "id": "EYmMSC6NQGdh",
        "outputId": "a17eaeed-e5ed-4833-a2ab-2531f4ddde75"
      },
      "execution_count": 20,
      "outputs": [
        {
          "output_type": "stream",
          "name": "stdout",
          "text": [
            "225\n"
          ]
        }
      ]
    },
    {
      "cell_type": "code",
      "source": [
        "#Division\n",
        "number1 = 45\n",
        "number2 = 5\n",
        "total = number1 / number2\n",
        "print(total)"
      ],
      "metadata": {
        "colab": {
          "base_uri": "https://localhost:8080/"
        },
        "id": "PxFq3-ZvQYYG",
        "outputId": "ed65b778-7161-4af9-fbbd-61ca8f1aed09"
      },
      "execution_count": 21,
      "outputs": [
        {
          "output_type": "stream",
          "name": "stdout",
          "text": [
            "9.0\n"
          ]
        }
      ]
    },
    {
      "cell_type": "code",
      "source": [
        "#Modulus\n",
        "number1 = 48\n",
        "number2 = 5\n",
        "total = number1 % number2\n",
        "print(total)"
      ],
      "metadata": {
        "colab": {
          "base_uri": "https://localhost:8080/"
        },
        "id": "wQmebMO9QcCB",
        "outputId": "eb3309ad-6f82-4dd4-f01a-ce9be3db290c"
      },
      "execution_count": 22,
      "outputs": [
        {
          "output_type": "stream",
          "name": "stdout",
          "text": [
            "3\n"
          ]
        }
      ]
    },
    {
      "cell_type": "code",
      "source": [
        "#Exponent\n",
        "number1 = 7\n",
        "number2 = 2\n",
        "total = number1 ** number2\n",
        "print(total)"
      ],
      "metadata": {
        "colab": {
          "base_uri": "https://localhost:8080/"
        },
        "id": "uayAu6aCQu4c",
        "outputId": "c495e106-00a6-495d-8f7a-fe86c5cd4a71"
      },
      "execution_count": 24,
      "outputs": [
        {
          "output_type": "stream",
          "name": "stdout",
          "text": [
            "49\n"
          ]
        }
      ]
    },
    {
      "cell_type": "markdown",
      "source": [
        "# **Assignment**\n"
      ],
      "metadata": {
        "id": "2ieDuc9XSQnm"
      }
    },
    {
      "cell_type": "markdown",
      "source": [
        "Mr.Khan is hosting a rabri(desert) party at his institute. He needs your help to calculate the total number of people attending the event and the amount of rabri (in grams and in kg) he needs to prepare.\n",
        "\n",
        "Here's what to know:\n",
        "\n",
        "*   There are 12 Faculty members.\n",
        "*   There are 4 adminstrative staff members.\n",
        "*   There are 100 students in the institute.\n",
        "*   The number of absentees are 15\n",
        "*   Per person rabri is 250g\n",
        "\n",
        "\n",
        "\n",
        "\n",
        "\n",
        "\n",
        "\n"
      ],
      "metadata": {
        "id": "Jv3QsFVrTHiw"
      }
    },
    {
      "cell_type": "code",
      "source": [
        "faculty = 12\n",
        "admin = 4\n",
        "students = 100\n",
        "absentees = 15\n",
        "rabri_per_person_in_grams = 250"
      ],
      "metadata": {
        "id": "tPvBTqupQzMy"
      },
      "execution_count": 30,
      "outputs": []
    },
    {
      "cell_type": "code",
      "source": [
        "# Number of People Attending the Event\n",
        "total_people = faculty + admin + students - absentees\n",
        "print(f\"The total number of people will be present: {total_people}\")"
      ],
      "metadata": {
        "colab": {
          "base_uri": "https://localhost:8080/"
        },
        "id": "6LSR90zwUeiW",
        "outputId": "c8a027dc-036b-410d-a5cd-bee10e35b675"
      },
      "execution_count": 34,
      "outputs": [
        {
          "output_type": "stream",
          "name": "stdout",
          "text": [
            "The total number of people will be present: 101\n"
          ]
        }
      ]
    },
    {
      "cell_type": "code",
      "source": [
        "# Total Rabri in Grams\n",
        "total_rabri_in_grams = total_people * rabri_per_person_in_grams\n",
        "print(f\"The total amount of rabri in grams: {total_rabri_in_grams}\")"
      ],
      "metadata": {
        "colab": {
          "base_uri": "https://localhost:8080/"
        },
        "id": "UH04qFSZU7zE",
        "outputId": "7dd4ddb4-bd94-405f-ec6a-89350863876d"
      },
      "execution_count": 35,
      "outputs": [
        {
          "output_type": "stream",
          "name": "stdout",
          "text": [
            "The total amount of rabri in grams: 25250\n"
          ]
        }
      ]
    },
    {
      "cell_type": "code",
      "source": [
        "# Rabri in Kg\n",
        "total_rabri_in_kg = total_rabri_in_grams / 1000\n",
        "print(f\"The total amount of rabri in kg: {total_rabri_in_kg}\")"
      ],
      "metadata": {
        "colab": {
          "base_uri": "https://localhost:8080/"
        },
        "id": "mNzwppNEVmaB",
        "outputId": "4141c7fd-e113-41e7-f980-0f27edbfda0a"
      },
      "execution_count": 36,
      "outputs": [
        {
          "output_type": "stream",
          "name": "stdout",
          "text": [
            "The total amount of rabri in kg: 25.25\n"
          ]
        }
      ]
    },
    {
      "cell_type": "code",
      "source": [],
      "metadata": {
        "id": "VJnRSvaGVwy8"
      },
      "execution_count": null,
      "outputs": []
    }
  ]
}