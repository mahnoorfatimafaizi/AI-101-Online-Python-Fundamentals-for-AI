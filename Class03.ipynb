{
  "nbformat": 4,
  "nbformat_minor": 0,
  "metadata": {
    "colab": {
      "provenance": [],
      "authorship_tag": "ABX9TyPgT8JhOcagdm92N5lrfRrU",
      "include_colab_link": true
    },
    "kernelspec": {
      "name": "python3",
      "display_name": "Python 3"
    },
    "language_info": {
      "name": "python"
    }
  },
  "cells": [
    {
      "cell_type": "markdown",
      "metadata": {
        "id": "view-in-github",
        "colab_type": "text"
      },
      "source": [
        "<a href=\"https://colab.research.google.com/github/mahnoorfatimafaizi/AI-101-Online-Python-Fundamentals-for-AI/blob/main/Class03.ipynb\" target=\"_parent\"><img src=\"https://colab.research.google.com/assets/colab-badge.svg\" alt=\"Open In Colab\"/></a>"
      ]
    },
    {
      "cell_type": "markdown",
      "source": [
        "## Boolean"
      ],
      "metadata": {
        "id": "MtCpG8OYBveT"
      }
    },
    {
      "cell_type": "code",
      "execution_count": 1,
      "metadata": {
        "id": "a8RRLZ_H_1lM"
      },
      "outputs": [],
      "source": [
        "is_raining = True\n",
        "is_sunny = False"
      ]
    },
    {
      "cell_type": "code",
      "source": [
        "print(is_raining)\n",
        "print(type(is_sunny))"
      ],
      "metadata": {
        "colab": {
          "base_uri": "https://localhost:8080/"
        },
        "id": "yV2xrtDBB0_T",
        "outputId": "2062ca9f-5307-4454-82df-771e57e60afd"
      },
      "execution_count": 2,
      "outputs": [
        {
          "output_type": "stream",
          "name": "stdout",
          "text": [
            "True\n",
            "<class 'bool'>\n"
          ]
        }
      ]
    },
    {
      "cell_type": "markdown",
      "source": [
        "## Commarision Operators"
      ],
      "metadata": {
        "id": "aFCNzxv4CL1r"
      }
    },
    {
      "cell_type": "markdown",
      "source": [
        "*   ' == ' Equal to\n",
        "*   ' != ' Not Equal to\n",
        "*   ' > ' Greater Than\n",
        "*   ' < ' Less Than\n",
        "*   ' >= ' Greater Than Equal to\n",
        "*   ' <= ' Less Than Equal to\n",
        "\n",
        "\n",
        "\n",
        "\n",
        "\n",
        "\n",
        "\n",
        "\n"
      ],
      "metadata": {
        "id": "vaU1Xal3Cb48"
      }
    },
    {
      "cell_type": "markdown",
      "source": [],
      "metadata": {
        "id": "5N_1-ysvCaKY"
      }
    },
    {
      "cell_type": "code",
      "source": [
        "a = 50\n",
        "b = 20"
      ],
      "metadata": {
        "id": "W83CE6ilDvKD"
      },
      "execution_count": 3,
      "outputs": []
    },
    {
      "cell_type": "code",
      "source": [
        "# ' == ' Equal to\n",
        "# ' != ' Not Equal to\n",
        "\n",
        "print(a == b)\n",
        "print(a != b)"
      ],
      "metadata": {
        "colab": {
          "base_uri": "https://localhost:8080/"
        },
        "id": "FTqcWoApD2c7",
        "outputId": "79f9513b-70fe-47cf-9906-8888c3f6a7e6"
      },
      "execution_count": 4,
      "outputs": [
        {
          "output_type": "stream",
          "name": "stdout",
          "text": [
            "False\n",
            "True\n"
          ]
        }
      ]
    },
    {
      "cell_type": "code",
      "source": [
        "# ' > ' Greater Than\n",
        "# ' < ' Less Than\n",
        "\n",
        "print(a > b)\n",
        "print(a < b)"
      ],
      "metadata": {
        "colab": {
          "base_uri": "https://localhost:8080/"
        },
        "id": "Qt48FmwvEG6t",
        "outputId": "e02f2d5f-e6d7-4192-cd67-5fd017368d82"
      },
      "execution_count": 5,
      "outputs": [
        {
          "output_type": "stream",
          "name": "stdout",
          "text": [
            "True\n",
            "False\n"
          ]
        }
      ]
    },
    {
      "cell_type": "code",
      "source": [
        "# ' >= ' Greater Than Equal to\n",
        "# ' <= ' Less Than Equal to\n",
        "\n",
        "print(a >= b)\n",
        "print(a <= b)"
      ],
      "metadata": {
        "colab": {
          "base_uri": "https://localhost:8080/"
        },
        "id": "i4B797Y7ERU4",
        "outputId": "ff458ba3-f30c-46fc-81fe-46ad421a8ed1"
      },
      "execution_count": 6,
      "outputs": [
        {
          "output_type": "stream",
          "name": "stdout",
          "text": [
            "True\n",
            "False\n"
          ]
        }
      ]
    },
    {
      "cell_type": "code",
      "source": [
        "age_limit = 18\n",
        "student1 = 16\n",
        "student2 = 20"
      ],
      "metadata": {
        "id": "4JA1uP6eJh0z"
      },
      "execution_count": 14,
      "outputs": []
    },
    {
      "cell_type": "code",
      "source": [
        "print(student1 > age_limit)\n",
        "print(student2 > age_limit)"
      ],
      "metadata": {
        "colab": {
          "base_uri": "https://localhost:8080/"
        },
        "id": "ocuynF21JkMa",
        "outputId": "d92f4238-1948-4cbf-f98e-9dba6e36409e"
      },
      "execution_count": 15,
      "outputs": [
        {
          "output_type": "stream",
          "name": "stdout",
          "text": [
            "False\n",
            "True\n"
          ]
        }
      ]
    },
    {
      "cell_type": "code",
      "source": [
        "print(student1 < age_limit)\n",
        "print(student2 < age_limit)"
      ],
      "metadata": {
        "colab": {
          "base_uri": "https://localhost:8080/"
        },
        "id": "5qdh0j9PJnqq",
        "outputId": "c997ac9f-598a-4cc9-ea3e-83282db40f96"
      },
      "execution_count": 16,
      "outputs": [
        {
          "output_type": "stream",
          "name": "stdout",
          "text": [
            "True\n",
            "False\n"
          ]
        }
      ]
    },
    {
      "cell_type": "code",
      "source": [
        "print(student1 == age_limit)\n",
        "print(student2 == age_limit)"
      ],
      "metadata": {
        "colab": {
          "base_uri": "https://localhost:8080/"
        },
        "id": "IkAn-182JtvE",
        "outputId": "45495c9b-c10b-42e4-d22f-9afe3a464314"
      },
      "execution_count": 17,
      "outputs": [
        {
          "output_type": "stream",
          "name": "stdout",
          "text": [
            "False\n",
            "False\n"
          ]
        }
      ]
    },
    {
      "cell_type": "code",
      "source": [
        "print(student1 <= age_limit)\n",
        "print(student2 <= age_limit)"
      ],
      "metadata": {
        "colab": {
          "base_uri": "https://localhost:8080/"
        },
        "id": "4vcJZeMaJ0fy",
        "outputId": "5abc2dd2-8964-4713-aad8-f557dcd1ffba"
      },
      "execution_count": 18,
      "outputs": [
        {
          "output_type": "stream",
          "name": "stdout",
          "text": [
            "True\n",
            "False\n"
          ]
        }
      ]
    },
    {
      "cell_type": "code",
      "source": [
        "print(student1 >= age_limit)\n",
        "print(student2 >= age_limit)"
      ],
      "metadata": {
        "colab": {
          "base_uri": "https://localhost:8080/"
        },
        "id": "3fuJy_-QJ8v0",
        "outputId": "0e84b9f5-4086-48f1-b506-057ebfe90c14"
      },
      "execution_count": 19,
      "outputs": [
        {
          "output_type": "stream",
          "name": "stdout",
          "text": [
            "False\n",
            "True\n"
          ]
        }
      ]
    },
    {
      "cell_type": "markdown",
      "source": [
        "## If-else"
      ],
      "metadata": {
        "id": "wqBa9dsDIPv9"
      }
    },
    {
      "cell_type": "code",
      "source": [
        "age_limit = 18\n",
        "student1 = 16\n",
        "student2 = 20"
      ],
      "metadata": {
        "id": "zwhq03VhLcUz"
      },
      "execution_count": 20,
      "outputs": []
    },
    {
      "cell_type": "code",
      "source": [
        "if (student1 >= age_limit):\n",
        "  print(\"You are eligible to take a ride\")"
      ],
      "metadata": {
        "id": "U7yFuEFGLjrA"
      },
      "execution_count": 30,
      "outputs": []
    },
    {
      "cell_type": "code",
      "source": [
        "if (student2 >= age_limit):\n",
        "  print(\"You are eligible to take a ride\")"
      ],
      "metadata": {
        "colab": {
          "base_uri": "https://localhost:8080/"
        },
        "id": "fqtSeUFNMZup",
        "outputId": "bbd6604b-300f-4550-e6f4-1dce68a7b627"
      },
      "execution_count": 31,
      "outputs": [
        {
          "output_type": "stream",
          "name": "stdout",
          "text": [
            "You are eligible to take a ride\n"
          ]
        }
      ]
    },
    {
      "cell_type": "code",
      "source": [
        "if (student1 >= age_limit):\n",
        "  print(\"You are eligible to take a ride\")\n",
        "else:\n",
        "  print(\"You are not eligible to take a ride\")"
      ],
      "metadata": {
        "colab": {
          "base_uri": "https://localhost:8080/"
        },
        "id": "XNxZvK0GMgIi",
        "outputId": "994b26e4-c00a-4f9a-eb5b-8ed8d92e97a7"
      },
      "execution_count": 32,
      "outputs": [
        {
          "output_type": "stream",
          "name": "stdout",
          "text": [
            "You are not eligible to take a ride\n"
          ]
        }
      ]
    },
    {
      "cell_type": "code",
      "source": [
        "if (student2 >= age_limit):\n",
        "  print(\"You are eligible to take a ride\")\n",
        "else:\n",
        "  print(\"You are not eligible to take a ride\")"
      ],
      "metadata": {
        "colab": {
          "base_uri": "https://localhost:8080/"
        },
        "id": "igKoRrlBM8tN",
        "outputId": "87baf2aa-17f7-43f2-c338-b084a1a2e2ed"
      },
      "execution_count": 33,
      "outputs": [
        {
          "output_type": "stream",
          "name": "stdout",
          "text": [
            "You are eligible to take a ride\n"
          ]
        }
      ]
    },
    {
      "cell_type": "markdown",
      "source": [
        "## Logical Operators"
      ],
      "metadata": {
        "id": "tgFdMApkQA-z"
      }
    },
    {
      "cell_type": "code",
      "source": [
        "age = 19\n",
        "hasId = True\n",
        "\n",
        "if (age >= 18 and hasId == True):\n",
        "  print(\"You are eligible to take a ride\")\n",
        "else:\n",
        "  print(\"You are not eligible to take a ride\")"
      ],
      "metadata": {
        "colab": {
          "base_uri": "https://localhost:8080/"
        },
        "id": "qv5Imo1iQuol",
        "outputId": "e766111a-b516-4066-bc08-badf2ed466de"
      },
      "execution_count": 46,
      "outputs": [
        {
          "output_type": "stream",
          "name": "stdout",
          "text": [
            "You are eligible to take a ride\n"
          ]
        }
      ]
    },
    {
      "cell_type": "markdown",
      "source": [
        "## Practice"
      ],
      "metadata": {
        "id": "DnKF7NG-NWUn"
      }
    },
    {
      "cell_type": "code",
      "source": [
        "name = input(\"What is your name? \")\n",
        "message = (\"Hello, \" + name + \"!\")\n",
        "\n",
        "print(message)"
      ],
      "metadata": {
        "colab": {
          "base_uri": "https://localhost:8080/"
        },
        "id": "-pXLwCLwNcKz",
        "outputId": "19cb3296-695e-4eb9-8f47-bcacc35ca30c"
      },
      "execution_count": 36,
      "outputs": [
        {
          "output_type": "stream",
          "name": "stdout",
          "text": [
            "What is your name? Mahnoor\n",
            "Hello, Mahnoor!\n"
          ]
        }
      ]
    },
    {
      "cell_type": "code",
      "source": [
        "age = int(input(\"What is you age? \"))\n",
        "\n",
        "if (age >= 18):\n",
        "  print(\"You are eligible to vote\")\n",
        "else:\n",
        "  print(\"You are not eligible to vote\")"
      ],
      "metadata": {
        "colab": {
          "base_uri": "https://localhost:8080/"
        },
        "id": "Z89K8QsoODRD",
        "outputId": "4e4cefc3-c2d7-48d6-98f7-495c7c801690"
      },
      "execution_count": 39,
      "outputs": [
        {
          "output_type": "stream",
          "name": "stdout",
          "text": [
            "What is you age? 14\n",
            "You are not eligible to vote\n"
          ]
        }
      ]
    }
  ]
}